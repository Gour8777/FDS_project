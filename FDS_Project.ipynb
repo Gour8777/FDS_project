{
  "nbformat": 4,
  "nbformat_minor": 0,
  "metadata": {
    "colab": {
      "provenance": []
    },
    "kernelspec": {
      "name": "python3",
      "display_name": "Python 3"
    },
    "language_info": {
      "name": "python"
    }
  },
  "cells": [
    {
      "cell_type": "code",
      "execution_count": null,
      "metadata": {
        "id": "T0pgqX68btue",
        "colab": {
          "base_uri": "https://localhost:8080/"
        },
        "outputId": "744d8916-3153-43db-eb42-6a024b768496"
      },
      "outputs": [
        {
          "output_type": "stream",
          "name": "stdout",
          "text": [
            "Data:\n",
            "    Hours Studied  Scores Achieved\n",
            "0             2.5               21\n",
            "1             5.1               47\n",
            "2             3.2               27\n",
            "3             8.5               75\n",
            "4             3.5               30\n",
            "5             1.5               20\n",
            "6             9.2               88\n",
            "7             5.5               60\n",
            "8             8.3               81\n",
            "9             2.7               25\n",
            "10            7.7               85\n",
            "11            5.9               62\n",
            "12            4.5               41\n",
            "13            3.3               42\n",
            "14            1.1               17\n",
            "15            8.9               95\n",
            "16            2.5               30\n",
            "17            1.9               24\n"
          ]
        }
      ],
      "source": [
        "import numpy as np\n",
        "import matplotlib.pyplot as plt\n",
        "import pandas as pd\n",
        "import sympy as sp\n",
        "# student study hours and their score\n",
        "hours_score=[[2.5,21],[5.1,47],[3.2,27],[8.5,75],[3.5,30],[1.5,20],[9.2,88],[5.5,60],[8.3,81],[2.7,25],[7.7,85],[5.9,62],[4.5,41],[3.3,42],\n",
        "             [1.1,17],[8.9,95],[2.5,30],[1.9,24]]\n",
        "#representation of data\n",
        "df = pd.DataFrame(hours_score, columns=[\"Hours Studied\", \"Scores Achieved\"])\n",
        "print(\"Data:\")\n",
        "print(df)\n",
        "\n"
      ]
    },
    {
      "cell_type": "code",
      "source": [
        "# Filter students who studied for more than a certain number of hours\n",
        "hours_threshold = 5\n",
        "hours_filtered = df[df[\"Hours Studied\"] > hours_threshold]\n",
        "\n",
        "print(\"Students who studied for more than\", hours_threshold, \"hours:\")\n",
        "print(hours_filtered)"
      ],
      "metadata": {
        "colab": {
          "base_uri": "https://localhost:8080/"
        },
        "id": "bOp1Sj3ucevC",
        "outputId": "90202c4c-4df6-48f9-f8f2-f8b6545fb34e"
      },
      "execution_count": null,
      "outputs": [
        {
          "output_type": "stream",
          "name": "stdout",
          "text": [
            "Students who studied for more than 5 hours:\n",
            "    Hours Studied  Scores Achieved\n",
            "1             5.1               47\n",
            "3             8.5               75\n",
            "6             9.2               88\n",
            "7             5.5               60\n",
            "8             8.3               81\n",
            "10            7.7               85\n",
            "11            5.9               62\n",
            "15            8.9               95\n"
          ]
        }
      ]
    },
    {
      "cell_type": "code",
      "source": [
        "# Filter students who achieved scores within a specific range\n",
        "score_min = 50\n",
        "score_max = 80\n",
        "scores_filtered = df[(df[\"Scores Achieved\"] >= score_min) & (df[\"Scores Achieved\"] <= score_max)]\n",
        "\n",
        "print(\"\\nStudents who achieved scores between\", score_min, \"and\", score_max, \"inclusive:\")\n",
        "print(scores_filtered)\n"
      ],
      "metadata": {
        "colab": {
          "base_uri": "https://localhost:8080/"
        },
        "id": "7Qa6wSx-dTMN",
        "outputId": "8098a33a-c068-4709-b581-882624264736"
      },
      "execution_count": null,
      "outputs": [
        {
          "output_type": "stream",
          "name": "stdout",
          "text": [
            "\n",
            "Students who achieved scores between 50 and 80 inclusive:\n",
            "    Hours Studied  Scores Achieved\n",
            "3             8.5               75\n",
            "7             5.5               60\n",
            "11            5.9               62\n"
          ]
        }
      ]
    },
    {
      "cell_type": "code",
      "source": [
        "# Calculate the mean of the \"Hours Studied\" column\n",
        "average_study_time = df[\"Hours Studied\"].mean()\n",
        "# Print the result\n",
        "average_study_time=round(average_study_time,4)\n",
        "print(\"Average study time:\", average_study_time)\n"
      ],
      "metadata": {
        "colab": {
          "base_uri": "https://localhost:8080/"
        },
        "id": "ysb5ISrvd0cB",
        "outputId": "e206d8e1-2517-4fef-8858-20c7a5234364"
      },
      "execution_count": null,
      "outputs": [
        {
          "output_type": "stream",
          "name": "stdout",
          "text": [
            "Average study time: 4.7667\n"
          ]
        }
      ]
    },
    {
      "cell_type": "code",
      "source": [
        "#average score\n",
        "average_score = df[\"Scores Achieved\"].mean()\n",
        "# Print the result\n",
        "average_score=round(average_score,4)\n",
        "print(\"Average score:\", average_score)"
      ],
      "metadata": {
        "colab": {
          "base_uri": "https://localhost:8080/"
        },
        "id": "qggd0_a_eYvc",
        "outputId": "176f812b-0532-4215-e8db-52e36677c4c6"
      },
      "execution_count": null,
      "outputs": [
        {
          "output_type": "stream",
          "name": "stdout",
          "text": [
            "Average score: 48.3333\n"
          ]
        }
      ]
    },
    {
      "cell_type": "code",
      "source": [
        "# Calculate the mean of the \"Hours Studied\" and \"Scores Achieved\" columns\n",
        "mean_hours_studied = df[\"Hours Studied\"].mean()\n",
        "mean_scores_achieved = df[\"Scores Achieved\"].mean()\n",
        "\n",
        "# Define a threshold for identifying outliers (e.g., 2 standard deviations from the mean)\n",
        "threshold_hours_studied = 2 * df[\"Hours Studied\"].std()\n",
        "threshold_scores_achieved = 2 * df[\"Scores Achieved\"].std()\n",
        "\n",
        "# Identify outliers for \"Hours Studied\"\n",
        "outliers_hours_studied = df[abs(df[\"Hours Studied\"] - mean_hours_studied) > threshold_hours_studied]\n",
        "\n",
        "# Identify outliers for \"Scores Achieved\"\n",
        "outliers_scores_achieved = df[abs(df[\"Scores Achieved\"] - mean_scores_achieved) > threshold_scores_achieved]\n",
        "\n",
        "# Print the outliers\n",
        "print(\"Outliers for Hours Studied:\")\n",
        "print(outliers_hours_studied)\n",
        "\n",
        "print(\"\\nOutliers for Scores Achieved:\")\n",
        "print(outliers_scores_achieved)\n"
      ],
      "metadata": {
        "colab": {
          "base_uri": "https://localhost:8080/"
        },
        "id": "WzJECFJzeroy",
        "outputId": "74199161-c909-4de9-a300-ed4e1d01374a"
      },
      "execution_count": null,
      "outputs": [
        {
          "output_type": "stream",
          "name": "stdout",
          "text": [
            "Outliers for Hours Studied:\n",
            "Empty DataFrame\n",
            "Columns: [Hours Studied, Scores Achieved]\n",
            "Index: []\n",
            "\n",
            "Outliers for Scores Achieved:\n",
            "Empty DataFrame\n",
            "Columns: [Hours Studied, Scores Achieved]\n",
            "Index: []\n"
          ]
        }
      ]
    },
    {
      "cell_type": "code",
      "source": [
        "# Calculate the median of the \"Hours Studied\" and \"Scores Achieved\" columns\n",
        "median_hours_studied = df[\"Hours Studied\"].median()\n",
        "median_scores_achieved = df[\"Scores Achieved\"].median()\n",
        "# Print the median values\n",
        "print(\"Median hours studied:\", median_hours_studied)\n",
        "print(\"Median scores achieved:\", median_scores_achieved)\n"
      ],
      "metadata": {
        "colab": {
          "base_uri": "https://localhost:8080/"
        },
        "id": "UGiAlPNjfTSW",
        "outputId": "6c5635b6-c38d-4ee4-d813-5acbd7350c14"
      },
      "execution_count": null,
      "outputs": [
        {
          "output_type": "stream",
          "name": "stdout",
          "text": [
            "Median hours studied: 4.0\n",
            "Median scores achieved: 41.5\n"
          ]
        }
      ]
    },
    {
      "cell_type": "code",
      "source": [
        "# Find the maximum and minimum scores achieved\n",
        "max_score = df[\"Scores Achieved\"].max()\n",
        "min_score = df[\"Scores Achieved\"].min()\n",
        "\n",
        "# Print the results\n",
        "print(\"Maximum score:\", max_score)\n",
        "print(\"Minimum score:\", min_score)\n"
      ],
      "metadata": {
        "colab": {
          "base_uri": "https://localhost:8080/"
        },
        "id": "PVUp6v_Ifgdz",
        "outputId": "c811ee80-97b9-4d27-9cf8-4d982927deff"
      },
      "execution_count": null,
      "outputs": [
        {
          "output_type": "stream",
          "name": "stdout",
          "text": [
            "Maximum score: 95\n",
            "Minimum score: 17\n"
          ]
        }
      ]
    },
    {
      "cell_type": "code",
      "source": [
        "# Find the maximum and minimum hours studied\n",
        "max_hours_studied = df[\"Hours Studied\"].max()\n",
        "min_hours_studied = df[\"Hours Studied\"].min()\n",
        "# Print the results\n",
        "print(\"Maximum hours studied:\", max_hours_studied)\n",
        "print(\"Minimum hours studied:\", min_hours_studied)\n"
      ],
      "metadata": {
        "colab": {
          "base_uri": "https://localhost:8080/"
        },
        "id": "5k8A_w6vfwW9",
        "outputId": "b10794e4-cd10-438d-8c61-db6af1091ee1"
      },
      "execution_count": null,
      "outputs": [
        {
          "output_type": "stream",
          "name": "stdout",
          "text": [
            "Maximum hours studied: 9.2\n",
            "Minimum hours studied: 1.1\n"
          ]
        }
      ]
    },
    {
      "cell_type": "code",
      "source": [
        "# Calculate the mean and standard deviation of the \"Scores Achieved\" column\n",
        "#z score\n",
        "mean_scores = df[\"Scores Achieved\"].mean()\n",
        "std_scores = df[\"Scores Achieved\"].std()\n",
        "\n",
        "# Calculate the z-score for each data point in the \"Scores Achieved\" column\n",
        "df['Scores Z-score'] = (df['Scores Achieved'] - mean_scores) / std_scores\n",
        "\n",
        "# Print the DataFrame with z-scores\n",
        "print(df)\n"
      ],
      "metadata": {
        "colab": {
          "base_uri": "https://localhost:8080/"
        },
        "id": "fHocRALcggcM",
        "outputId": "06e28b01-5f42-4e15-b4fc-06d9bb1e0267"
      },
      "execution_count": null,
      "outputs": [
        {
          "output_type": "stream",
          "name": "stdout",
          "text": [
            "    Hours Studied  Scores Achieved  Scores Z-score\n",
            "0             2.5               21       -1.025038\n",
            "1             5.1               47       -0.050002\n",
            "2             3.2               27       -0.800029\n",
            "3             8.5               75        1.000037\n",
            "4             3.5               30       -0.687525\n",
            "5             1.5               20       -1.062539\n",
            "6             9.2               88        1.487555\n",
            "7             5.5               60        0.437516\n",
            "8             8.3               81        1.225045\n",
            "9             2.7               25       -0.875032\n",
            "10            7.7               85        1.375051\n",
            "11            5.9               62        0.512519\n",
            "12            4.5               41       -0.275010\n",
            "13            3.3               42       -0.237509\n",
            "14            1.1               17       -1.175043\n",
            "15            8.9               95        1.750064\n",
            "16            2.5               30       -0.687525\n",
            "17            1.9               24       -0.912534\n"
          ]
        }
      ]
    },
    {
      "cell_type": "code",
      "source": [
        "# Calculate the mean and median of the \"Scores Achieved\" column\n",
        "mean_score = df[\"Scores Achieved\"].mean()\n",
        "median_score = df[\"Scores Achieved\"].median()\n",
        "\n",
        "# Calculate the Z-score for each data point in the \"Scores Achieved\" column\n",
        "mean_scores = df[\"Scores Achieved\"].mean()\n",
        "std_scores = df[\"Scores Achieved\"].std()\n",
        "df['Scores Z-score'] = (df['Scores Achieved'] - mean_scores) / std_scores\n",
        "\n",
        "# Plot the bar graph\n",
        "plt.figure(figsize=(10, 6))\n",
        "\n",
        "# Plot the bar graph for scores achieved\n",
        "plt.bar(df.index, df[\"Scores Achieved\"], label=\"Scores\", color=\"blue\")\n",
        "\n",
        "# Plot the mean score line\n",
        "plt.axhline(y=mean_score, color='green', linestyle='--', label='Mean Score')\n",
        "\n",
        "# Plot the median score line\n",
        "plt.axhline(y=median_score, color='orange', linestyle='--', label='Median Score')\n",
        "\n",
        "# Plot the Z-score line\n",
        "plt.plot(df.index, df[\"Scores Z-score\"], label=\"Z-score\", color=\"red\")\n",
        "\n",
        "# Add labels and legend\n",
        "plt.xlabel('Student')\n",
        "plt.ylabel('Score')\n",
        "plt.title('Scores Achieved and Z-score')\n",
        "plt.legend()\n",
        "\n",
        "# Show plot\n",
        "plt.show()\n"
      ],
      "metadata": {
        "colab": {
          "base_uri": "https://localhost:8080/",
          "height": 564
        },
        "id": "ZxLRkaJ3hZ-C",
        "outputId": "1eed80b0-6153-4bf1-9b30-96b821ae802f"
      },
      "execution_count": null,
      "outputs": [
        {
          "output_type": "display_data",
          "data": {
            "text/plain": [
              "<Figure size 1000x600 with 1 Axes>"
            ],
            "image/png": "[encoded data removed]"
          },
          "metadata": {}
        }
      ]
    },
    {
      "cell_type": "code",
      "source": [
        "#how much to study to score more than 95%\n",
        "import pandas as pd\n",
        "from sklearn.linear_model import LinearRegression\n",
        "# Define X (features) and y (target variable)\n",
        "X = df[[\"Hours Studied\"]]  # Features (hours studied)\n",
        "y = df[\"Scores Achieved\"]  # Target variable (scores achieved)\n",
        "\n",
        "# Train the linear regression model\n",
        "model = LinearRegression()\n",
        "model.fit(X, y)\n",
        "# Predict the score for different values of hours studied\n",
        "desired_score = 95\n",
        "hours_needed = (desired_score - model.intercept_) / model.coef_[0]\n",
        "\n",
        "print(f\"To achieve a score greater than 95%, the student needs to study for approximately {hours_needed:.2f} hours.\")\n"
      ],
      "metadata": {
        "colab": {
          "base_uri": "https://localhost:8080/"
        },
        "id": "Bax-S6Ohkkv2",
        "outputId": "2567465b-4f35-4248-b345-5e5680d93898"
      },
      "execution_count": null,
      "outputs": [
        {
          "output_type": "stream",
          "name": "stdout",
          "text": [
            "To achieve a score greater than 95%, the student needs to study for approximately 9.65 hours.\n"
          ]
        }
      ]
    },
    {
      "cell_type": "code",
      "source": [
        "#minimum hours of study to pass if passing marks is 33\n",
        "import pandas as pd\n",
        "from sklearn.linear_model import LinearRegression\n",
        "# Define X (features) and y (target variable)\n",
        "X = df[[\"Hours Studied\"]]  # Features (hours studied)\n",
        "y = df[\"Scores Achieved\"]  # Target variable (scores achieved)\n",
        "\n",
        "# Train the linear regression model\n",
        "model = LinearRegression()\n",
        "model.fit(X, y)\n",
        "# Define passing marks\n",
        "passing_marks = 33\n",
        "\n",
        "# Predict the score corresponding to passing marks\n",
        "hours_needed = (passing_marks - model.intercept_) / model.coef_[0]\n",
        "\n",
        "print(f\"To pass the exam with a score of {passing_marks}, the student needs to study for approximately {hours_needed:.2f} hours.\")\n"
      ],
      "metadata": {
        "colab": {
          "base_uri": "https://localhost:8080/"
        },
        "id": "gNVKeo5FlXRv",
        "outputId": "6a3a4090-fa57-4e9d-faf5-4e567e5b1806"
      },
      "execution_count": null,
      "outputs": [
        {
          "output_type": "stream",
          "name": "stdout",
          "text": [
            "To pass the exam with a score of 33, the student needs to study for approximately 3.16 hours.\n"
          ]
        }
      ]
    }
  ]
}